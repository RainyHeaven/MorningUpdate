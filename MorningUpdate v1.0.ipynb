{
 "cells": [
  {
   "cell_type": "code",
   "execution_count": null,
   "metadata": {
    "collapsed": true
   },
   "outputs": [],
   "source": [
    "# -*- coding:utf-8 -*-\n",
    "import requests\n",
    "from bs4 import BeautifulSoup as bs\n",
    "from selenium import webdriver\n",
    "from pyowm import OWM\n",
    "import datetime as dt\n",
    "import pandas as pd\n",
    "import calendar"
   ]
  },
  {
   "cell_type": "code",
   "execution_count": null,
   "metadata": {
    "collapsed": true
   },
   "outputs": [],
   "source": [
    "#파일 경로\n",
    "save_path = 'c:/cr/MU/'\n",
    "driver_path = 'c:/cd/chromedriver'\n",
    "\n",
    "#파일 형식\n",
    "save_type = 'csv'\n",
    "\n",
    "#시간정보\n",
    "today = dt.datetime.today()\n",
    "yesterday = today - dt.timedelta(days=1)\n",
    "N_yesterday = yesterday.strftime('%Y-%m-%d')\n",
    "G_yesterday = yesterday.strftime('%Y%m%d')\n",
    "today = today.strftime('%y%m%d')\n",
    "\n",
    "#날씨 체크용\n",
    "API_Key = '8221f7effc33ce6c0b0626a4a9cc90e0'\n",
    "City_ID = 1835848 #서울\n",
    "\n",
    "#검색어 체크용      \n",
    "naver_url = 'https://datalab.naver.com/keyword/realtimeList.naver?datetime={}T23:00:00'.format(N_yesterday)\n",
    "google_url = 'https://trends.google.com/trends/hottrends#pn=p23' #대한민국 p=23, 미국 p=1\n",
    "user_agent=\"Mozilla/5.0 (Macintosh; Intel Mac OS X 10_9_4) \" +\\\n",
    "\"AppleWebKit/537.36 (KHTML, like Gecko) \" + \\\n",
    "\"Chrome/37.0.2062.94 Safari/537.36\"\n",
    "headers = {\"User-Agent\": user_agent}"
   ]
  },
  {
   "cell_type": "code",
   "execution_count": 3,
   "metadata": {
    "collapsed": true
   },
   "outputs": [],
   "source": [
    "browser = webdriver.Chrome(driver_path)\n",
    "browser.implicitly_wait(3)"
   ]
  },
  {
   "cell_type": "code",
   "execution_count": 4,
   "metadata": {
    "collapsed": true
   },
   "outputs": [],
   "source": [
    "def W_check():\n",
    "    owm = OWM(API_Key, language='kr')\n",
    "    base = owm.weather_at_id(City_ID)\n",
    "    # owm.get_language()\n",
    "\n",
    "    L = base.get_location()\n",
    "    City_name = L.get_name()\n",
    "\n",
    "    W = base.get_weather()\n",
    "    Temp = W.get_temperature(unit = 'celsius')\n",
    "    Status = W.get_status()\n",
    "    \n",
    "    print('일자: ' + today, City_name, Status, '현재기온: ' + str(Temp['temp']), '최고기온: ' + str(Temp['temp_max']), '최저기온: ' + str(Temp['temp_min']), sep = ' / ')\n",
    "    \n",
    "    weather = [today, City_name, Status, str(Temp['temp']), str(Temp['temp_max']), str(Temp['temp_min'])]\n",
    "    return weather"
   ]
  },
  {
   "cell_type": "code",
   "execution_count": 5,
   "metadata": {
    "collapsed": true
   },
   "outputs": [],
   "source": [
    "def N_check():\n",
    "    N_html = requests.get(naver_url, headers = headers).text\n",
    "    N_source = bs(N_html, 'html.parser')\n",
    "    N_ranks = N_source.select('div.keyword_rank.select_date > div > div > ul > li > a > span')\n",
    "    N_hots = []\n",
    "    print('- 네이버 인기 검색어 -')\n",
    "    for i, rank in enumerate(N_ranks):\n",
    "        N_hots.append(rank.text)\n",
    "        print(i+1, rank.text)\n",
    "    return N_hots"
   ]
  },
  {
   "cell_type": "code",
   "execution_count": 6,
   "metadata": {
    "collapsed": true
   },
   "outputs": [],
   "source": [
    "def G_check():\n",
    "    browser.get(google_url)\n",
    "    G_ranks = browser.find_element_by_id(G_yesterday).text\n",
    "    G_full = G_ranks.split('\\n')\n",
    "    G_hots = []\n",
    "    print('- 구글 인기 검색어 -')\n",
    "    i = 0\n",
    "    for sentence in G_full:\n",
    "        hot = G_full.index(sentence) + 3\n",
    "        if hot % 6 == 0:\n",
    "            i += 1\n",
    "            G_hots.append(sentence)\n",
    "            print(i, sentence)\n",
    "\n",
    "    return G_hots"
   ]
  },
  {
   "cell_type": "code",
   "execution_count": 14,
   "metadata": {
    "collapsed": true
   },
   "outputs": [],
   "source": [
    "def save():\n",
    "    if save_type == 'txt':\n",
    "        txt_path = save_path + '{}_MorningUpdate.txt'.format(today)\n",
    "        with open(txt_path, 'w+', encoding = 'utf8')as f:\n",
    "            f.write(','.join(weather))\n",
    "            f.write('\\n')\n",
    "            f.write(','.join(N_hots))\n",
    "            f.write('\\n')\n",
    "            f.write(','.join(G_hots))\n",
    "    \n",
    "    elif save_type == 'csv':\n",
    "        csv_path = save_path + '{}_MorningUpdate.csv'.format(today)\n",
    "        with open(csv_path, 'w+', encoding = 'cp949')as f:\n",
    "            f.write(','.join(weather))\n",
    "            f.write('\\n')\n",
    "            f.write(','.join(N_hots))\n",
    "            f.write('\\n')\n",
    "            f.write(','.join(G_hots))\n",
    "    \n",
    "#     if save_type == 'csv':\n",
    "#         csv_path = save_path + '{}_MorningUpdate.csv'.format(today)\n",
    "#         f = open(csv_path, 'w+', encoding = 'utf8')\n",
    "#         f.write('\\n'.join(map(str, results)))\n",
    "#         f.close()\n",
    "    \n",
    "#     elif save_type == 'txt':\n",
    "#         txt_path = save_path + '{}_MorningUpdate.txt'.format(today)\n",
    "#         f = open(txt_path, 'w+', encoding = 'utf8')\n",
    "#         f.write('\\n'.join(map(str, results)))\n",
    "#         f.close()\n",
    "    \n",
    "    print('저장이 완료되었습니다.')\n",
    "\n",
    "#현재 result를 그대로 저장시 저장이 안됨\n",
    "#map을 추가하면 txt로는 저장되나 엑셀은 깨짐\n",
    "#map을 추가하면 리스트의 괄호가 그대로 저장됨\n",
    "##한줄씩 불러내서 쓰는 방법, 혹은 다른 좋은 방법이 있나 찾아볼것"
   ]
  },
  {
   "cell_type": "code",
   "execution_count": 8,
   "metadata": {},
   "outputs": [
    {
     "name": "stdout",
     "output_type": "stream",
     "text": [
      "일자: 180212 / Seoul / Clouds / 현재기온: -11.44 / 최고기온: -9.0 / 최저기온: -14.0\n",
      "- 네이버 인기 검색어 -\n",
      "1 복면가왕 집시여인\n",
      "2 민유라\n",
      "3 이승훈\n",
      "4 펠릭스 로흐\n",
      "5 최다빈\n",
      "6 효리네민박2\n",
      "7 선우정아\n",
      "8 밥상 차리는 남자\n",
      "9 내보험찾아줌\n",
      "10 슈가맨\n",
      "11 서현\n",
      "12 박보검\n",
      "13 런닝맨\n",
      "14 얼굴바꾸기 어플\n",
      "15 미운우리새끼\n",
      "16 포항지진\n",
      "17 쓰리 빌보드\n",
      "18 아이비\n",
      "19 화유기\n",
      "20 이명행\n",
      "- 구글 인기 검색어 -\n",
      "1 민유라\n",
      "2 지진\n",
      "3 숨은보험금찾기\n",
      "4 김일성 가면\n",
      "5 최다빈\n",
      "6 이승훈\n",
      "7 793 회 로또 당첨 번호\n",
      "8 NBC\n",
      "9 아이스하키\n",
      "10 바이애슬론\n",
      "11 루지\n",
      "저장이 완료되었습니다.\n"
     ]
    }
   ],
   "source": [
    "weather = W_check()\n",
    "N_hots = N_check()\n",
    "G_hots = G_check()\n",
    "results = [weather, N_hots, G_hots]\n",
    "save()"
   ]
  },
  {
   "cell_type": "code",
   "execution_count": 15,
   "metadata": {},
   "outputs": [
    {
     "name": "stdout",
     "output_type": "stream",
     "text": [
      "저장이 완료되었습니다.\n"
     ]
    }
   ],
   "source": [
    "save()"
   ]
  }
 ],
 "metadata": {
  "kernelspec": {
   "display_name": "Python 3",
   "language": "python",
   "name": "python3"
  },
  "language_info": {
   "codemirror_mode": {
    "name": "ipython",
    "version": 3.0
   },
   "file_extension": ".py",
   "mimetype": "text/x-python",
   "name": "python",
   "nbconvert_exporter": "python",
   "pygments_lexer": "ipython3",
   "version": "3.6.3"
  }
 },
 "nbformat": 4,
 "nbformat_minor": 0
}